{
  "nbformat": 4,
  "nbformat_minor": 0,
  "metadata": {
    "colab": {
      "name": "MeetingOptimizationProblem.ipynb",
      "provenance": [],
      "collapsed_sections": [],
      "authorship_tag": "ABX9TyPl2QpLfjsCpwQrJAlu7Wk2",
      "include_colab_link": true
    },
    "kernelspec": {
      "name": "python3",
      "display_name": "Python 3"
    },
    "language_info": {
      "name": "python"
    }
  },
  "cells": [
    {
      "cell_type": "markdown",
      "metadata": {
        "id": "view-in-github",
        "colab_type": "text"
      },
      "source": [
        "<a href=\"https://colab.research.google.com/drive/1vUj6ysWQDEf4ejI7EEvHyY4Z3xBPsHZ-?usp=sharing" target=\"_parent\"><img src=\"https://colab.research.google.com/assets/colab-badge.svg\" alt=\"Open In Colab\"/></a>"
      ]
    },
    {
      "cell_type": "markdown",
      "metadata": {
        "id": "YfzlpE3fmV3h"
      },
      "source": [
        "# Meeting Optimization Problem"
      ]
    },
    {
      "cell_type": "markdown",
      "metadata": {
        "id": "05VKtj0hv-GL"
      },
      "source": [
        "#### this is a notebook to solve ComeJoinUs.co.za meeting event problem. To allocate people in different rooms across different sessions."
      ]
    },
    {
      "cell_type": "markdown",
      "metadata": {
        "id": "y2ZN002tmmy1"
      },
      "source": [
        "Given *n*th People , *y*th Meeting Rooms and amount of *total* sessions find the best optimized matrix to make the people meet other people during the sessions and meetings"
      ]
    },
    {
      "cell_type": "code",
      "metadata": {
        "id": "ucHdUFh3WxIH"
      },
      "source": [
        "from random import shuffle\n",
        "# this is used to divide the matrix for the segments\n",
        "def dividearr(lst, num_piece):\n",
        "    return [\n",
        "        [lst[i] for i in range(len(lst)) if (i % num_piece) == r]\n",
        "        for r in range(num_piece)\n",
        "    ]\n",
        "\n",
        "\n",
        "# where n amount of people and y size of room\n",
        "def GenerateRoom(n,y):\n",
        "  peoplearray = []\n",
        "  for x in range(n):\n",
        "      peoplearray.append(x+1)\n",
        "  shuffle(peoplearray) \n",
        "  peoplearray = dividearr(peoplearray,y)\n",
        "  return peoplearray\n",
        "\n",
        "# This is a brute force algorithm to find the Unique Rooms\n",
        "def FindUniqueRoom(Room,n,y):\n",
        "  for index,data in enumerate(Room):\n",
        "    bValid = False\n",
        "    NewRoom = GenerateRoom(n,y)\n",
        "    for element in Room:\n",
        "        if sum(element) == sum(NewRoom[index]):\n",
        "           return False\n",
        "        else:\n",
        "           bValid = True\n",
        "    if bValid == True:\n",
        "       return True\n",
        "        \n",
        "# This is the driver function\n",
        "def SolveRooms(n,y,iterations):\n",
        "  nFound = 0\n",
        "  Rooms = []\n",
        "  while not nFound == iterations:\n",
        "        Room = GenerateRoom(n,y)\n",
        "        if FindUniqueRoom(Room,n,y):\n",
        "          nFound += 1\n",
        "          Rooms.append(Room)\n",
        "  return Rooms"
      ],
      "execution_count": null,
      "outputs": []
    },
    {
      "cell_type": "code",
      "metadata": {
        "colab": {
          "base_uri": "https://localhost:8080/"
        },
        "id": "oUJK8IdumeTD",
        "outputId": "105f01e2-3388-41ef-ce68-8cad97a1fd1d"
      },
      "source": [
        "# n amount of people\n",
        "# y size of room\n",
        "# iterations - how many unique rooms you want - sessions\n",
        "\n",
        "# n,y,iterations\n",
        "SolveRooms(30,5,5)"
      ],
      "execution_count": null,
      "outputs": [
        {
          "output_type": "execute_result",
          "data": {
            "text/plain": [
              "[[[14, 23, 6, 9, 15, 22],\n",
              "  [4, 21, 11, 8, 16, 13],\n",
              "  [12, 17, 28, 2, 24, 10],\n",
              "  [30, 1, 3, 18, 26, 7],\n",
              "  [29, 19, 5, 25, 27, 20]],\n",
              " [[2, 16, 5, 1, 4, 18],\n",
              "  [25, 24, 17, 30, 3, 23],\n",
              "  [13, 15, 20, 7, 14, 10],\n",
              "  [12, 27, 21, 22, 19, 6],\n",
              "  [29, 26, 28, 9, 8, 11]],\n",
              " [[25, 17, 4, 18, 6, 21],\n",
              "  [7, 14, 5, 11, 27, 3],\n",
              "  [8, 20, 16, 10, 12, 19],\n",
              "  [9, 1, 15, 2, 30, 24],\n",
              "  [29, 28, 22, 23, 26, 13]],\n",
              " [[3, 9, 11, 12, 15, 28],\n",
              "  [2, 16, 24, 6, 14, 27],\n",
              "  [10, 5, 7, 25, 30, 23],\n",
              "  [22, 1, 13, 18, 17, 20],\n",
              "  [8, 4, 21, 29, 26, 19]],\n",
              " [[20, 25, 28, 17, 6, 5],\n",
              "  [3, 9, 8, 12, 21, 30],\n",
              "  [29, 24, 15, 1, 14, 26],\n",
              "  [2, 7, 18, 27, 10, 19],\n",
              "  [11, 13, 4, 16, 23, 22]]]"
            ]
          },
          "metadata": {},
          "execution_count": 38
        }
      ]
    },
    {
      "cell_type": "markdown",
      "metadata": {
        "id": "RzpCPlv6n4z4"
      },
      "source": [
        "(c) Copyright **ADGSTUDIOS** 2021"
      ]
    }
  ]
}
